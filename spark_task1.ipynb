{
 "cells": [
  {
   "cell_type": "markdown",
   "id": "c0236e11",
   "metadata": {},
   "source": [
    "# Task1"
   ]
  },
  {
   "cell_type": "code",
   "execution_count": 14,
   "id": "f7a451a2",
   "metadata": {},
   "outputs": [
    {
     "name": "stdout",
     "output_type": "stream",
     "text": [
      "+--------------------+-----+--------------------+--------+---------+--------------------+---+--------+------------------+------+-------+--------------------+-----------------+--------------------+--------------------+--------------------+--------+---------+--------------------+--------------------+--------------------+-------------+\n",
      "|                 _id|index|                guid|isActive|  balance|             picture|age|eyeColor|              name|gender|company|               email|            phone|             address|               about|          registered|latitude|longitude|                tags|             friends|            greeting|favoriteFruit|\n",
      "+--------------------+-----+--------------------+--------+---------+--------------------+---+--------+------------------+------+-------+--------------------+-----------------+--------------------+--------------------+--------------------+--------+---------+--------------------+--------------------+--------------------+-------------+\n",
      "|647d9d2aa14e5d948...|    0|8486f37f-68bf-414...|   false|$1,232.31|http://placehold....| 20|   brown|Cardenas Zimmerman|  male|ENDICIL|cardenaszimmerman...|+1 (925) 449-3059|369 Albemarle Roa...|Magna eiusmod ess...|2017-05-07T02:41:...|4.014042|106.89131|[enim, velit, nul...|[{\"id\":0,\"name\":\"...|Hello, Cardenas Z...|        apple|\n",
      "+--------------------+-----+--------------------+--------+---------+--------------------+---+--------+------------------+------+-------+--------------------+-----------------+--------------------+--------------------+--------------------+--------+---------+--------------------+--------------------+--------------------+-------------+\n",
      "only showing top 1 row\n",
      "\n"
     ]
    }
   ],
   "source": [
    "from pyspark.sql import SparkSession\n",
    "from pyspark.sql.types import StructType, StructField, IntegerType, FloatType, \\\n",
    "    StringType, ArrayType, BooleanType\n",
    "\n",
    "import pyspark.sql.functions as func\n",
    "\n",
    "spark = SparkSession.builder.appName(\"spark_task1\").getOrCreate()\n",
    "\n",
    "\n",
    "schema = StructType([\n",
    "                     StructField(\"_id\", StringType(), True),\n",
    "                     StructField(\"index\", IntegerType(), True),\n",
    "                     StructField(\"guid\", StringType(), True),\n",
    "                     StructField(\"isActive\", BooleanType(), True),\n",
    "                     StructField(\"balance\", StringType(), True),\n",
    "                     StructField(\"picture\", StringType(), True),\n",
    "                     StructField(\"age\", IntegerType(), True),\n",
    "                     StructField(\"eyeColor\", StringType(), True),\n",
    "                     StructField(\"name\", StringType(), True),\n",
    "                     StructField(\"gender\", StringType(), True),\n",
    "                     StructField(\"company\", StringType(), True),\n",
    "                     StructField(\"email\", StringType(), True),\n",
    "                     StructField(\"phone\", StringType(), True),\n",
    "                     StructField(\"address\", StringType(), True),\n",
    "                     StructField(\"about\", StringType(), True),\n",
    "                     StructField(\"registered\", StringType(), True),\n",
    "                     StructField(\"latitude\", FloatType(), True),\n",
    "                     StructField(\"longitude\", FloatType(), True),\n",
    "                     StructField(\"tags\", ArrayType(StringType()), True),\n",
    "                     StructField(\"friends\", ArrayType(StringType()), True),\n",
    "                     StructField(\"greeting\", StringType(), True),\n",
    "                     StructField(\"favoriteFruit\", StringType(), True)])\n",
    "\n",
    "df = spark.read.json(path='Documents/exadel_bootcamp/spark_task/data_task1.json',schema=schema, multiLine=True)\n",
    "df.show(1)\n"
   ]
  },
  {
   "cell_type": "markdown",
   "id": "ff2fefa6",
   "metadata": {},
   "source": [
    "# Task2"
   ]
  },
  {
   "cell_type": "code",
   "execution_count": 15,
   "id": "05669757",
   "metadata": {},
   "outputs": [
    {
     "name": "stdout",
     "output_type": "stream",
     "text": [
      "+--------------------+-----+--------------------+--------+---------+--------------------+---+--------+------------------+------+-------+--------------------+-----------------+--------------------+--------------------+--------------------+--------+---------+--------------------+--------------------+--------------------+-------------+-------------+\n",
      "|                 _id|index|                guid|isActive|  balance|             picture|age|eyeColor|              name|gender|company|               email|            phone|             address|               about|          registered|latitude|longitude|                tags|             friends|            greeting|favoriteFruit|float_balance|\n",
      "+--------------------+-----+--------------------+--------+---------+--------------------+---+--------+------------------+------+-------+--------------------+-----------------+--------------------+--------------------+--------------------+--------+---------+--------------------+--------------------+--------------------+-------------+-------------+\n",
      "|647d9d2aa14e5d948...|    0|8486f37f-68bf-414...|   false|$1,232.31|http://placehold....| 20|   brown|Cardenas Zimmerman|  male|ENDICIL|cardenaszimmerman...|+1 (925) 449-3059|369 Albemarle Roa...|Magna eiusmod ess...|2017-05-07T02:41:...|4.014042|106.89131|[enim, velit, nul...|[{\"id\":0,\"name\":\"...|Hello, Cardenas Z...|        apple|      1232.31|\n",
      "+--------------------+-----+--------------------+--------+---------+--------------------+---+--------+------------------+------+-------+--------------------+-----------------+--------------------+--------------------+--------------------+--------+---------+--------------------+--------------------+--------------------+-------------+-------------+\n",
      "only showing top 1 row\n",
      "\n"
     ]
    }
   ],
   "source": [
    "df2 = df.withColumn(\"float_balance\", func.regexp_replace('balance', '[$,]', '').cast('float'))\n",
    "df2.show(1)"
   ]
  },
  {
   "cell_type": "markdown",
   "id": "aade690e",
   "metadata": {},
   "source": [
    "# Task3"
   ]
  },
  {
   "cell_type": "code",
   "execution_count": 16,
   "id": "b349018b",
   "metadata": {},
   "outputs": [
    {
     "name": "stdout",
     "output_type": "stream",
     "text": [
      "+------+----------------------------+\n",
      "|gender|round(sum(float_balance), 2)|\n",
      "+------+----------------------------+\n",
      "|female|                   113979.79|\n",
      "|  male|                   124797.55|\n",
      "+------+----------------------------+\n",
      "\n"
     ]
    }
   ],
   "source": [
    "df2.createOrReplaceTempView(\"df2_view\")\n",
    "df3 = spark.sql('SELECT gender, ROUND(SUM(float_balance), 2) FROM df2_view GROUP BY gender')\n",
    "df3.show()\n",
    "\n",
    "spark.stop()"
   ]
  },
  {
   "cell_type": "code",
   "execution_count": null,
   "id": "937a3779",
   "metadata": {},
   "outputs": [],
   "source": []
  }
 ],
 "metadata": {
  "kernelspec": {
   "display_name": "Python 3 (ipykernel)",
   "language": "python",
   "name": "python3"
  },
  "language_info": {
   "codemirror_mode": {
    "name": "ipython",
    "version": 3
   },
   "file_extension": ".py",
   "mimetype": "text/x-python",
   "name": "python",
   "nbconvert_exporter": "python",
   "pygments_lexer": "ipython3",
   "version": "3.9.10"
  }
 },
 "nbformat": 4,
 "nbformat_minor": 5
}
